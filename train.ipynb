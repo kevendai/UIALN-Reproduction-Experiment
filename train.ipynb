{
 "cells": [
  {
   "cell_type": "markdown",
   "metadata": {},
   "source": [
    "#### 导入库"
   ]
  },
  {
   "cell_type": "code",
   "execution_count": 1,
   "metadata": {
    "pycharm": {
     "is_executing": true
    }
   },
   "outputs": [],
   "source": [
    "import torch\n",
    "import torch.nn as nn\n",
    "import torch.nn.functional as F\n",
    "from torchsummary import summary\n",
    "import torchvision.models as models\n",
    "from Net import *\n",
    "from Loss import *\n",
    "from DataLoader import *\n",
    "from torch.utils.data import DataLoader\n",
    "import time"
   ]
  },
  {
   "cell_type": "markdown",
   "metadata": {},
   "source": [
    "#### 基本参数"
   ]
  },
  {
   "cell_type": "code",
   "execution_count": 2,
   "metadata": {},
   "outputs": [],
   "source": [
    "train_batch_size = 16\n",
    "start_epochs = 0\n",
    "learning_rate = 0.0002\n",
    "# 总共训练200个epoch\n",
    "num_epochs = 200\n",
    "device = torch.device(\"cuda:0\" if torch.cuda.is_available() else \"cpu\")\n",
    "save_point = 5\n",
    "# 1:分解模型\n",
    "model_choose = 1"
   ]
  },
  {
   "cell_type": "markdown",
   "metadata": {},
   "source": [
    "#### 损失函数"
   ]
  },
  {
   "cell_type": "code",
   "execution_count": 3,
   "metadata": {},
   "outputs": [],
   "source": [
    "consLoss = nn.MSELoss()\n",
    "recLoss = nn.MSELoss()\n",
    "# structure-aware TV loss\n",
    "smoothLoss = TVLoss()"
   ]
  },
  {
   "cell_type": "markdown",
   "metadata": {},
   "source": [
    "#### 数据缓存入内存，加快读入速度"
   ]
  },
  {
   "cell_type": "code",
   "execution_count": 4,
   "metadata": {},
   "outputs": [],
   "source": [
    "class DataPrefetcher():\n",
    "\n",
    "    def __init__(self, loader):\n",
    "        self.loader = iter(loader)\n",
    "        self.preload()\n",
    "\n",
    "    def preload(self):\n",
    "        try:\n",
    "            self.batch = next(self.loader)\n",
    "        except StopIteration:\n",
    "            self.batch = None\n",
    "            return\n",
    "\n",
    "    def next(self):\n",
    "        batch = self.batch\n",
    "        self.preload()\n",
    "        return batch"
   ]
  },
  {
   "cell_type": "markdown",
   "metadata": {},
   "source": [
    "#### 模型1_分解模型"
   ]
  },
  {
   "cell_type": "code",
   "execution_count": 5,
   "metadata": {},
   "outputs": [],
   "source": [
    "def train_1(start_epoch):\n",
    "    print(\"模型导入中\")\n",
    "    model = Retinex_Decomposition_net().to(device)\n",
    "    if start_epoch != 0:\n",
    "        model_path = './checkpoints/Retinex_Decomposition_net/epoch_' + str(start_epoch) + '.pth'\n",
    "        model.load_state_dict(torch.load(model_path))\n",
    "    print(\"模型导入完成\")\n",
    "    model.train()\n",
    "    optimizer = torch.optim.Adam(model.parameters(), lr=learning_rate)\n",
    "    total_loss = 0\n",
    "    for epoch in range(start_epoch+1, num_epochs+1):\n",
    "        print(\"epoch: \", epoch)\n",
    "        L_no_light_path = r\"./dataset/UIALN_datasest/train_data/dataset_no_AL\"\n",
    "        L_light_path = r\"./dataset/UIALN_datasest/train_data/dataset_with_AL/train\"\n",
    "        dataset = retinex_decomposition_data(L_no_light_path, L_light_path)\n",
    "        train_loader = DataLoader(dataset, batch_size=train_batch_size, shuffle=True, num_workers=0)\n",
    "        start_time = time.time()\n",
    "        prefetcher = DataPrefetcher(train_loader)\n",
    "        batch = prefetcher.next()\n",
    "        i = 0\n",
    "        epoch_loss = 0\n",
    "        while batch is not None:\n",
    "            i += 1\n",
    "            L_no_light = batch[0].to(device)\n",
    "            L_light = batch[1].to(device)\n",
    "            L_no_light_hat = model(L_no_light)\n",
    "            # 每个batch中的第一个是I_no_light_hat，第二个是R_no_light_hat，它们的shape都是[batch_size, 1, 256, 256]，batch不改变\n",
    "            I_no_light_hat, R_no_light_hat = torch.split(L_no_light_hat, 1, dim=1)\n",
    "            L_light_hat = model(L_light)\n",
    "            I_light_hat, R_light_hat = torch.split(L_light_hat, 1, dim=1)\n",
    "            loss_1 = consLoss(R_light_hat, R_no_light_hat)\n",
    "            loss_2_1 = recLoss(I_light_hat*R_light_hat, L_light)\n",
    "            loss_2_2 = recLoss(I_no_light_hat*R_no_light_hat, L_no_light)\n",
    "            loss_3 = smoothLoss(I_light_hat, R_light_hat)\n",
    "            loss_4 = smoothLoss(I_no_light_hat, R_no_light_hat)\n",
    "            loss = loss_1 + loss_2_1 + loss_2_2 + loss_3 + loss_4\n",
    "            epoch_loss += loss\n",
    "            optimizer.zero_grad()\n",
    "            loss.backward()\n",
    "            optimizer.step()\n",
    "            batch = prefetcher.next()\n",
    "        if epoch % save_point == 0:\n",
    "            state = {'model': model.state_dict(), 'optimizer': optimizer.state_dict(), 'epoch': epoch}\n",
    "            torch.save(state, './checkpoints/Retinex_Decomposition_net/epoch_' + str(epoch) + '.pth')\n",
    "        time_epoch = time.time() - start_time\n",
    "        epoch_loss = epoch_loss*1.0/i\n",
    "        total_loss += epoch_loss\n",
    "        print(\"==>No: {} epoch, time: {:.2f}, loss: {:.5f}\".format(epoch, time_epoch / 60, epoch_loss))\n",
    "        with open(\"output.txt\", \"a\") as f:\n",
    "            f.write(\"==>No: {} epoch, time: {:.2f}, loss: {:.5f}\\n\".format(epoch, time_epoch / 60, epoch_loss))\n",
    "    print(\"total_loss:\",total_loss*1.0/num_epochs-start_epochs)"
   ]
  },
  {
   "cell_type": "markdown",
   "source": [
    "#### 模型2_光照校正模型"
   ],
   "metadata": {
    "collapsed": false
   }
  },
  {
   "cell_type": "code",
   "execution_count": null,
   "outputs": [],
   "source": [
    "def train_2(start_epoch):\n",
    "    print(\"模型导入\")\n",
    "    # 前置模型\n",
    "    model_1 = Retinex_Decomposition_net().to(device)\n",
    "    model1_path = './save_model/Retinex_Light_Correction_net.pth'\n",
    "    model_1.load_state_dict(torch.load(model1_path))\n",
    "    # 后置模型\n",
    "    model_2 = Illumination_Correction().to(device)\n",
    "    if start_epoch != 0:\n",
    "        model2_path = './checkpoints/Illumination_Correction/epoch_' + str(start_epoch) + '.pth'\n",
    "        model_2.load_state_dict(torch.load(model2_path))\n",
    "    print(\"模型导入完成\")\n",
    "    model_1.eval()\n",
    "    model_2.train()\n",
    "    optimizer = torch.optim.Adam(model_2.parameters(), lr=learning_rate)\n",
    "    total_loss = 0\n",
    "    for epoch in range(start_epoch+1, num_epochs+1):\n",
    "        print(\"epoch: \", epoch)\n",
    "        L_no_light_path = r\"./dataset/UIALN_datasest/train_data/dataset_no_AL\"\n",
    "        L_light_path = r\"./dataset/UIALN_datasest/train_data/dataset_with_AL/train\"\n",
    "        dataset = retinex_decomposition_data(L_no_light_path, L_light_path)\n",
    "        train_loader = DataLoader(dataset, batch_size=train_batch_size, shuffle=True, num_workers=0)\n",
    "        start_time = time.time()\n",
    "        prefetcher = DataPrefetcher(train_loader)\n",
    "        batch = prefetcher.next()\n",
    "        i = 0\n",
    "        epoch_loss = 0\n",
    "        while batch is not None:\n",
    "            i+=1\n",
    "            L_no_light = batch[0].to(device)\n",
    "            L_light = batch[1].to(device)\n",
    "            temp = model_1(L_light)\n",
    "            I_light, R_light = torch.split(temp, 1, dim=1)\n",
    "            temp = model_1(L_no_light)\n",
    "            I_no_light, R_no_light = torch.split(temp, 1, dim=1)\n",
    "            I_delight_hat = model_2(torch.cat((I_light, R_light), dim=1))\n",
    "            # 感觉论文这里有点问题，之后问一下\n",
    "            loss_1 = recLoss(I_delight_hat*R_light, L_no_light)\n",
    "            loss_2 = consLoss(R_light, R_no_light)\n",
    "            loss = loss_1 + loss_2\n",
    "            epoch_loss += loss\n",
    "            optimizer.zero_grad()\n",
    "            loss.backward()\n",
    "            optimizer.step()\n",
    "            batch = prefetcher.next()\n",
    "        if epoch % save_point == 0:\n",
    "            state = {'model': model_2.state_dict(), 'optimizer': optimizer.state_dict(), 'epoch': epoch}\n",
    "            torch.save(state, './checkpoints/Illumination_Correction/epoch_' + str(epoch) + '.pth')\n",
    "        time_epoch = time.time() - start_time\n",
    "        epoch_loss = epoch_loss*1.0/i\n",
    "        total_loss += epoch_loss\n",
    "        print(\"==>No: {} epoch, time: {:.2f}, loss: {:.5f}\".format(epoch, time_epoch / 60, epoch_loss))\n",
    "        with open(\"output.txt\", \"a\") as f:\n",
    "            f.write(\"==>No: {} epoch, time: {:.2f}, loss: {:.5f}\\n\".format(epoch, time_epoch / 60, epoch_loss))\n",
    "    print(\"total_loss:\",total_loss*1.0/num_epochs-start_epochs)\n"
   ],
   "metadata": {
    "collapsed": false
   }
  },
  {
   "cell_type": "markdown",
   "metadata": {},
   "source": [
    "#### 主函数-判定训练哪个模型"
   ]
  },
  {
   "cell_type": "code",
   "execution_count": 6,
   "metadata": {},
   "outputs": [
    {
     "name": "stdout",
     "output_type": "stream",
     "text": [
      "True\n",
      "模型导入中\n",
      "模型导入完成\n",
      "epoch:  1\n",
      "==>No: 1 epoch, time: 3.55, loss: 0.02705\n",
      "epoch:  2\n"
     ]
    },
    {
     "name": "stderr",
     "output_type": "stream",
     "text": [
      "\n",
      "KeyboardInterrupt\n",
      "\n"
     ]
    }
   ],
   "source": [
    "if __name__ == '__main__':\n",
    "    print(torch.cuda.is_available())\n",
    "    if model_choose == 1:\n",
    "        train_1(start_epochs)"
   ]
  }
 ],
 "metadata": {
  "kernelspec": {
   "display_name": "Python 3 (ipykernel)",
   "language": "python",
   "name": "python3"
  },
  "language_info": {
   "codemirror_mode": {
    "name": "ipython",
    "version": 3
   },
   "file_extension": ".py",
   "mimetype": "text/x-python",
   "name": "python",
   "nbconvert_exporter": "python",
   "pygments_lexer": "ipython3",
   "version": "3.9.13"
  }
 },
 "nbformat": 4,
 "nbformat_minor": 1
}

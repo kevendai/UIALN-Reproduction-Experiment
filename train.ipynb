{
 "cells": [
  {
   "cell_type": "markdown",
   "source": [
    "#### 导入库"
   ],
   "metadata": {
    "collapsed": false
   }
  },
  {
   "cell_type": "code",
   "execution_count": null,
   "metadata": {
    "collapsed": true
   },
   "outputs": [],
   "source": [
    "import torch\n",
    "import torch.nn as nn\n",
    "import torch.nn.functional as F\n",
    "from torchsummary import summary\n",
    "import torchvision.models as models\n",
    "from Net import *\n",
    "from Loss import *\n",
    "from DataLoader import *\n",
    "from torch.utils.data import DataLoader\n",
    "import time"
   ]
  },
  {
   "cell_type": "markdown",
   "source": [
    "#### 基本参数"
   ],
   "metadata": {
    "collapsed": false
   }
  },
  {
   "cell_type": "code",
   "execution_count": null,
   "outputs": [],
   "source": [
    "train_batch_size = 16\n",
    "start_epochs = 0\n",
    "learning_rate = 0.0002\n",
    "# 总共训练200个epoch\n",
    "num_epochs = 200\n",
    "device = torch.device(\"cuda:0\" if torch.cuda.is_available() else \"cpu\")\n",
    "save_point = 5\n",
    "# 1:分解模型\n",
    "model_choose = 1"
   ],
   "metadata": {
    "collapsed": false
   }
  },
  {
   "cell_type": "markdown",
   "source": [
    "#### 损失函数"
   ],
   "metadata": {
    "collapsed": false
   }
  },
  {
   "cell_type": "code",
   "execution_count": null,
   "outputs": [],
   "source": [
    "consLoss = nn.MSELoss()\n",
    "recLoss = nn.MSELoss()\n",
    "# structure-aware TV loss\n",
    "smoothLoss = TVLoss()"
   ],
   "metadata": {
    "collapsed": false
   }
  },
  {
   "cell_type": "markdown",
   "source": [
    "#### 数据缓存入内存，加快读入速度"
   ],
   "metadata": {
    "collapsed": false
   }
  },
  {
   "cell_type": "code",
   "execution_count": null,
   "outputs": [],
   "source": [
    "class DataPrefetcher():\n",
    "\n",
    "    def __init__(self, loader):\n",
    "        self.loader = iter(loader)\n",
    "        self.preload()\n",
    "\n",
    "    def preload(self):\n",
    "        try:\n",
    "            self.batch = next(self.loader)\n",
    "        except StopIteration:\n",
    "            self.batch = None\n",
    "            return\n",
    "\n",
    "    def next(self):\n",
    "        batch = self.batch\n",
    "        self.preload()\n",
    "        return batch"
   ],
   "metadata": {
    "collapsed": false
   }
  },
  {
   "cell_type": "markdown",
   "source": [
    "#### 模型1_分解模型"
   ],
   "metadata": {
    "collapsed": false
   }
  },
  {
   "cell_type": "code",
   "execution_count": null,
   "outputs": [],
   "source": [
    "def train_1(start_epoch):\n",
    "    print(\"模型导入中\")\n",
    "    model = Retinex_Decomposition_net().to(device)\n",
    "    if start_epoch != 0:\n",
    "        # ./checkpoints/Retinex_Decomposition_net文件夹中epoch最大的模型\n",
    "        model_path = './checkpoints/Retinex_Decomposition_net/epoch_' + str(start_epoch) + '.pth'\n",
    "        model.load_state_dict(torch.load(model_path))\n",
    "    print(\"模型导入完成\")\n",
    "    optimizer = torch.optim.Adam(model.parameters(), lr=learning_rate)\n",
    "    total_loss = 0\n",
    "    for epoch in range(start_epoch+1, num_epochs+1):\n",
    "        print(\"epoch: \", epoch)\n",
    "        L_no_light_path = r\"./dataset/UIALN_datasest/train_data/dataset_no_AL\"\n",
    "        L_light_path = r\"./dataset/UIALN_datasest/train_data/dataset_with_AL/train\"\n",
    "        dataset = retinex_decomposition_data(L_no_light_path, L_light_path)\n",
    "        train_loader = DataLoader(dataset, batch_size=train_batch_size, shuffle=True, num_workers=0)\n",
    "        start_time = time.time()\n",
    "        prefetcher = DataPrefetcher(train_loader)\n",
    "        batch = prefetcher.next()\n",
    "        i = 0\n",
    "        epoch_loss = 0\n",
    "        while batch is not None:\n",
    "            i += 1\n",
    "            L_no_light = batch[0].to(device)\n",
    "            L_light = batch[1].to(device)\n",
    "            I_no_light_hat, R_no_light_hat = model(L_no_light)\n",
    "            I_light_hat, R_light_hat = model(L_light)\n",
    "            loss_1 = consLoss(R_light_hat, R_no_light_hat)\n",
    "            loss_2 = recLoss(I_light_hat*R_light_hat-L_light, I_no_light_hat*R_no_light_hat-L_no_light)\n",
    "            loss_3 = smoothLoss(R_light_hat)\n",
    "            loss_4 = smoothLoss(R_no_light_hat)\n",
    "            loss = loss_1 + loss_2 + loss_3 + loss_4\n",
    "            epoch_loss += loss\n",
    "            optimizer.zero_grad()\n",
    "            loss.backward()\n",
    "            optimizer.step()\n",
    "            batch = prefetcher.next()\n",
    "        if epoch % save_point == 0:\n",
    "            state = {'model': model.state_dict(), 'optimizer': optimizer.state_dict(), 'epoch': epoch}\n",
    "            torch.save(state, './checkpoints/Retinex_Decomposition_net/epoch_' + str(epoch) + '.pth')\n",
    "        time_epoch = time.time() - start_time\n",
    "        epoch_loss = epoch_loss*1.0/i\n",
    "        total_loss += epoch_loss\n",
    "        print(\"==>No: {} epoch, time: {:.2f}, loss: {:.5f}\".format(epoch, time_epoch / 60, epoch_loss))\n",
    "        with open(\"output.txt\", \"a\") as f:\n",
    "            f.write(\"==>No: {} epoch, time: {:.2f}, loss: {:.5f}\\n\".format(epoch, time_epoch / 60, epoch_loss))\n",
    "    print(\"total_loss:\",total_loss*1.0/num_epochs-start_epochs)"
   ],
   "metadata": {
    "collapsed": false
   }
  },
  {
   "cell_type": "markdown",
   "source": [
    "#### 主函数-判定训练哪个模型"
   ],
   "metadata": {
    "collapsed": false
   }
  },
  {
   "cell_type": "code",
   "execution_count": null,
   "outputs": [],
   "source": [
    "if __name__ == '__main__':\n",
    "    print(torch.cuda.is_available())\n",
    "    if model_choose == 1:\n",
    "        train_1(start_epochs)"
   ],
   "metadata": {
    "collapsed": false
   }
  }
 ],
 "metadata": {
  "kernelspec": {
   "display_name": "Python 3",
   "language": "python",
   "name": "python3"
  },
  "language_info": {
   "codemirror_mode": {
    "name": "ipython",
    "version": 2
   },
   "file_extension": ".py",
   "mimetype": "text/x-python",
   "name": "python",
   "nbconvert_exporter": "python",
   "pygments_lexer": "ipython2",
   "version": "2.7.6"
  }
 },
 "nbformat": 4,
 "nbformat_minor": 0
}
